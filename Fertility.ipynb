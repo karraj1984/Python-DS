{
 "cells": [
  {
   "cell_type": "code",
   "execution_count": 1,
   "metadata": {},
   "outputs": [],
   "source": [
    "import os\n",
    "import tarfile\n",
    "from six.moves import urllib"
   ]
  },
  {
   "cell_type": "code",
   "execution_count": 2,
   "metadata": {},
   "outputs": [],
   "source": [
    "DOWNLOAD_ROOT = \"https://archive.ics.uci.edu/ml/machine-learning-databases/00244/\"\n",
    "FERTILE_PATH = \"datasets/fertile\"\n",
    "FERTILE_URL = DOWNLOAD_ROOT + \"fertility_Diagnosis.txt\""
   ]
  },
  {
   "cell_type": "code",
   "execution_count": 3,
   "metadata": {},
   "outputs": [],
   "source": [
    "def fetch_fertile_data(fertile_url=FERTILE_URL, fertile_path=FERTILE_PATH):\n",
    "    if not os.path.isdir(fertile_path):\n",
    "        os.makedirs(fertile_path)\n",
    "    tgz_path = os.path.join(fertile_path, \"fertility_Diagnosis.txt\")\n",
    "    urllib.request.urlretrieve(fertile_url, tgz_path)"
   ]
  },
  {
   "cell_type": "code",
   "execution_count": 4,
   "metadata": {},
   "outputs": [],
   "source": [
    "fetch_fertile_data()"
   ]
  },
  {
   "cell_type": "code",
   "execution_count": 5,
   "metadata": {},
   "outputs": [],
   "source": [
    "import pandas as pd"
   ]
  },
  {
   "cell_type": "code",
   "execution_count": 9,
   "metadata": {},
   "outputs": [],
   "source": [
    "def load_fertile_data(fertile_path=FERTILE_PATH):\n",
    "    csv_path = os.path.join(fertile_path, \"fertility_Diagnosis.txt\")\n",
    "    df = pd.read_csv(csv_path, header=None) \n",
    "    return df"
   ]
  },
  {
   "cell_type": "code",
   "execution_count": 14,
   "metadata": {},
   "outputs": [],
   "source": [
    "fertile = load_fertile_data()\n",
    "fertile.columns = ['Season','Age','Disease','Trauma','Surgery','Fever','Alcohol','Smoking','Sitting','Status']"
   ]
  },
  {
   "cell_type": "code",
   "execution_count": 15,
   "metadata": {},
   "outputs": [
    {
     "data": {
      "text/html": [
       "<div>\n",
       "<style scoped>\n",
       "    .dataframe tbody tr th:only-of-type {\n",
       "        vertical-align: middle;\n",
       "    }\n",
       "\n",
       "    .dataframe tbody tr th {\n",
       "        vertical-align: top;\n",
       "    }\n",
       "\n",
       "    .dataframe thead th {\n",
       "        text-align: right;\n",
       "    }\n",
       "</style>\n",
       "<table border=\"1\" class=\"dataframe\">\n",
       "  <thead>\n",
       "    <tr style=\"text-align: right;\">\n",
       "      <th></th>\n",
       "      <th>Season</th>\n",
       "      <th>Age</th>\n",
       "      <th>Disease</th>\n",
       "      <th>Trauma</th>\n",
       "      <th>Surgery</th>\n",
       "      <th>Fever</th>\n",
       "      <th>Alcohol</th>\n",
       "      <th>Smoking</th>\n",
       "      <th>Sitting</th>\n",
       "      <th>Status</th>\n",
       "    </tr>\n",
       "  </thead>\n",
       "  <tbody>\n",
       "    <tr>\n",
       "      <th>0</th>\n",
       "      <td>-0.33</td>\n",
       "      <td>0.69</td>\n",
       "      <td>0</td>\n",
       "      <td>1</td>\n",
       "      <td>1</td>\n",
       "      <td>0</td>\n",
       "      <td>0.8</td>\n",
       "      <td>0</td>\n",
       "      <td>0.88</td>\n",
       "      <td>N</td>\n",
       "    </tr>\n",
       "    <tr>\n",
       "      <th>1</th>\n",
       "      <td>-0.33</td>\n",
       "      <td>0.94</td>\n",
       "      <td>1</td>\n",
       "      <td>0</td>\n",
       "      <td>1</td>\n",
       "      <td>0</td>\n",
       "      <td>0.8</td>\n",
       "      <td>1</td>\n",
       "      <td>0.31</td>\n",
       "      <td>O</td>\n",
       "    </tr>\n",
       "    <tr>\n",
       "      <th>2</th>\n",
       "      <td>-0.33</td>\n",
       "      <td>0.50</td>\n",
       "      <td>1</td>\n",
       "      <td>0</td>\n",
       "      <td>0</td>\n",
       "      <td>0</td>\n",
       "      <td>1.0</td>\n",
       "      <td>-1</td>\n",
       "      <td>0.50</td>\n",
       "      <td>N</td>\n",
       "    </tr>\n",
       "    <tr>\n",
       "      <th>3</th>\n",
       "      <td>-0.33</td>\n",
       "      <td>0.75</td>\n",
       "      <td>0</td>\n",
       "      <td>1</td>\n",
       "      <td>1</td>\n",
       "      <td>0</td>\n",
       "      <td>1.0</td>\n",
       "      <td>-1</td>\n",
       "      <td>0.38</td>\n",
       "      <td>N</td>\n",
       "    </tr>\n",
       "    <tr>\n",
       "      <th>4</th>\n",
       "      <td>-0.33</td>\n",
       "      <td>0.67</td>\n",
       "      <td>1</td>\n",
       "      <td>1</td>\n",
       "      <td>0</td>\n",
       "      <td>0</td>\n",
       "      <td>0.8</td>\n",
       "      <td>-1</td>\n",
       "      <td>0.50</td>\n",
       "      <td>O</td>\n",
       "    </tr>\n",
       "  </tbody>\n",
       "</table>\n",
       "</div>"
      ],
      "text/plain": [
       "   Season   Age  Disease  Trauma  Surgery  Fever  Alcohol  Smoking  Sitting  \\\n",
       "0   -0.33  0.69        0       1        1      0      0.8        0     0.88   \n",
       "1   -0.33  0.94        1       0        1      0      0.8        1     0.31   \n",
       "2   -0.33  0.50        1       0        0      0      1.0       -1     0.50   \n",
       "3   -0.33  0.75        0       1        1      0      1.0       -1     0.38   \n",
       "4   -0.33  0.67        1       1        0      0      0.8       -1     0.50   \n",
       "\n",
       "  Status  \n",
       "0      N  \n",
       "1      O  \n",
       "2      N  \n",
       "3      N  \n",
       "4      O  "
      ]
     },
     "execution_count": 15,
     "metadata": {},
     "output_type": "execute_result"
    }
   ],
   "source": [
    "fertile.describe()\n",
    "fertile.head(5)"
   ]
  },
  {
   "cell_type": "code",
   "execution_count": 13,
   "metadata": {},
   "outputs": [
    {
     "data": {
      "image/png": "[encoded data removed]",
      "text/plain": [
       "<Figure size 1440x1080 with 9 Axes>"
      ]
     },
     "metadata": {},
     "output_type": "display_data"
    }
   ],
   "source": [
    "from matplotlib import pyplot as plt\n",
    "fertile.hist(bins=20, figsize = (20,15))\n",
    "plt.show()"
   ]
  },
  {
   "cell_type": "code",
   "execution_count": 31,
   "metadata": {},
   "outputs": [
    {
     "data": {
      "text/html": [
       "<div>\n",
       "<style scoped>\n",
       "    .dataframe tbody tr th:only-of-type {\n",
       "        vertical-align: middle;\n",
       "    }\n",
       "\n",
       "    .dataframe tbody tr th {\n",
       "        vertical-align: top;\n",
       "    }\n",
       "\n",
       "    .dataframe thead th {\n",
       "        text-align: right;\n",
       "    }\n",
       "</style>\n",
       "<table border=\"1\" class=\"dataframe\">\n",
       "  <thead>\n",
       "    <tr style=\"text-align: right;\">\n",
       "      <th></th>\n",
       "      <th>Season</th>\n",
       "      <th>Age</th>\n",
       "      <th>Disease</th>\n",
       "      <th>Trauma</th>\n",
       "      <th>Surgery</th>\n",
       "      <th>Fever</th>\n",
       "      <th>Alcohol</th>\n",
       "      <th>Smoking</th>\n",
       "      <th>Sitting</th>\n",
       "      <th>Status</th>\n",
       "      <th>Status_num</th>\n",
       "    </tr>\n",
       "  </thead>\n",
       "  <tbody>\n",
       "    <tr>\n",
       "      <th>0</th>\n",
       "      <td>-0.33</td>\n",
       "      <td>0.69</td>\n",
       "      <td>0</td>\n",
       "      <td>1</td>\n",
       "      <td>1</td>\n",
       "      <td>0</td>\n",
       "      <td>0.8</td>\n",
       "      <td>0</td>\n",
       "      <td>0.88</td>\n",
       "      <td>N</td>\n",
       "      <td>0</td>\n",
       "    </tr>\n",
       "    <tr>\n",
       "      <th>1</th>\n",
       "      <td>-0.33</td>\n",
       "      <td>0.94</td>\n",
       "      <td>1</td>\n",
       "      <td>0</td>\n",
       "      <td>1</td>\n",
       "      <td>0</td>\n",
       "      <td>0.8</td>\n",
       "      <td>1</td>\n",
       "      <td>0.31</td>\n",
       "      <td>O</td>\n",
       "      <td>1</td>\n",
       "    </tr>\n",
       "    <tr>\n",
       "      <th>2</th>\n",
       "      <td>-0.33</td>\n",
       "      <td>0.50</td>\n",
       "      <td>1</td>\n",
       "      <td>0</td>\n",
       "      <td>0</td>\n",
       "      <td>0</td>\n",
       "      <td>1.0</td>\n",
       "      <td>-1</td>\n",
       "      <td>0.50</td>\n",
       "      <td>N</td>\n",
       "      <td>0</td>\n",
       "    </tr>\n",
       "    <tr>\n",
       "      <th>3</th>\n",
       "      <td>-0.33</td>\n",
       "      <td>0.75</td>\n",
       "      <td>0</td>\n",
       "      <td>1</td>\n",
       "      <td>1</td>\n",
       "      <td>0</td>\n",
       "      <td>1.0</td>\n",
       "      <td>-1</td>\n",
       "      <td>0.38</td>\n",
       "      <td>N</td>\n",
       "      <td>0</td>\n",
       "    </tr>\n",
       "    <tr>\n",
       "      <th>4</th>\n",
       "      <td>-0.33</td>\n",
       "      <td>0.67</td>\n",
       "      <td>1</td>\n",
       "      <td>1</td>\n",
       "      <td>0</td>\n",
       "      <td>0</td>\n",
       "      <td>0.8</td>\n",
       "      <td>-1</td>\n",
       "      <td>0.50</td>\n",
       "      <td>O</td>\n",
       "      <td>1</td>\n",
       "    </tr>\n",
       "  </tbody>\n",
       "</table>\n",
       "</div>"
      ],
      "text/plain": [
       "   Season   Age  Disease  Trauma  Surgery  Fever  Alcohol  Smoking  Sitting  \\\n",
       "0   -0.33  0.69        0       1        1      0      0.8        0     0.88   \n",
       "1   -0.33  0.94        1       0        1      0      0.8        1     0.31   \n",
       "2   -0.33  0.50        1       0        0      0      1.0       -1     0.50   \n",
       "3   -0.33  0.75        0       1        1      0      1.0       -1     0.38   \n",
       "4   -0.33  0.67        1       1        0      0      0.8       -1     0.50   \n",
       "\n",
       "  Status  Status_num  \n",
       "0      N           0  \n",
       "1      O           1  \n",
       "2      N           0  \n",
       "3      N           0  \n",
       "4      O           1  "
      ]
     },
     "execution_count": 31,
     "metadata": {},
     "output_type": "execute_result"
    }
   ],
   "source": [
    "from sklearn.preprocessing import LabelEncoder\n",
    "encoder = LabelEncoder()\n",
    "fertile_cat = fertile[\"Status\"]\n",
    "fertile_cat_encoded = encoder.fit_transform(fertile_cat.astype(str))\n",
    "fertile ['Status_num'] = fertile_cat_encoded\n",
    "fertile.head(5)"
   ]
  },
  {
   "cell_type": "code",
   "execution_count": 28,
   "metadata": {},
   "outputs": [
    {
     "data": {
      "text/plain": [
       "Status_num    1.000000\n",
       "Season        0.192417\n",
       "Age           0.115229\n",
       "Surgery       0.054171\n",
       "Smoking       0.045891\n",
       "Sitting       0.022964\n",
       "Disease      -0.040261\n",
       "Fever        -0.121421\n",
       "Trauma       -0.141346\n",
       "Alcohol      -0.144760\n",
       "Name: Status_num, dtype: float64"
      ]
     },
     "execution_count": 28,
     "metadata": {},
     "output_type": "execute_result"
    }
   ],
   "source": [
    "fertile.dtypes\n",
    "corr_matrix = fertile.corr()\n",
    "corr_matrix['Status_num'].sort_values(ascending=False)"
   ]
  },
  {
   "cell_type": "code",
   "execution_count": 32,
   "metadata": {},
   "outputs": [
    {
     "name": "stderr",
     "output_type": "stream",
     "text": [
      "/usr/local/lib/python3.6/site-packages/ipykernel_launcher.py:3: FutureWarning: 'pandas.tools.plotting.scatter_matrix' is deprecated, import 'pandas.plotting.scatter_matrix' instead.\n",
      "  This is separate from the ipykernel package so we can avoid doing imports until\n"
     ]
    },
    {
     "data": {
      "text/plain": [
       "array([[<matplotlib.axes._subplots.AxesSubplot object at 0x111ecb128>,\n",
       "        <matplotlib.axes._subplots.AxesSubplot object at 0x111ef57f0>,\n",
       "        <matplotlib.axes._subplots.AxesSubplot object at 0x111f1de80>,\n",
       "        <matplotlib.axes._subplots.AxesSubplot object at 0x111f4f550>,\n",
       "        <matplotlib.axes._subplots.AxesSubplot object at 0x111f75be0>,\n",
       "        <matplotlib.axes._subplots.AxesSubplot object at 0x111f75c18>,\n",
       "        <matplotlib.axes._subplots.AxesSubplot object at 0x111fce940>,\n",
       "        <matplotlib.axes._subplots.AxesSubplot object at 0x111ff7fd0>,\n",
       "        <matplotlib.axes._subplots.AxesSubplot object at 0x1120266a0>,\n",
       "        <matplotlib.axes._subplots.AxesSubplot object at 0x11204ed30>],\n",
       "       [<matplotlib.axes._subplots.AxesSubplot object at 0x112080400>,\n",
       "        <matplotlib.axes._subplots.AxesSubplot object at 0x1120a8a90>,\n",
       "        <matplotlib.axes._subplots.AxesSubplot object at 0x1120d8160>,\n",
       "        <matplotlib.axes._subplots.AxesSubplot object at 0x1120ff7f0>,\n",
       "        <matplotlib.axes._subplots.AxesSubplot object at 0x112128e80>,\n",
       "        <matplotlib.axes._subplots.AxesSubplot object at 0x112158550>,\n",
       "        <matplotlib.axes._subplots.AxesSubplot object at 0x112181be0>,\n",
       "        <matplotlib.axes._subplots.AxesSubplot object at 0x10f29b8d0>,\n",
       "        <matplotlib.axes._subplots.AxesSubplot object at 0x10fa59cf8>,\n",
       "        <matplotlib.axes._subplots.AxesSubplot object at 0x10f07a5c0>],\n",
       "       [<matplotlib.axes._subplots.AxesSubplot object at 0x10f171cf8>,\n",
       "        <matplotlib.axes._subplots.AxesSubplot object at 0x10f0b0c88>,\n",
       "        <matplotlib.axes._subplots.AxesSubplot object at 0x10fae4f60>,\n",
       "        <matplotlib.axes._subplots.AxesSubplot object at 0x10fa615c0>,\n",
       "        <matplotlib.axes._subplots.AxesSubplot object at 0x10f039da0>,\n",
       "        <matplotlib.axes._subplots.AxesSubplot object at 0x10f439cf8>,\n",
       "        <matplotlib.axes._subplots.AxesSubplot object at 0x10efd95c0>,\n",
       "        <matplotlib.axes._subplots.AxesSubplot object at 0x10f156240>,\n",
       "        <matplotlib.axes._subplots.AxesSubplot object at 0x10fa90128>,\n",
       "        <matplotlib.axes._subplots.AxesSubplot object at 0x10f425d68>],\n",
       "       [<matplotlib.axes._subplots.AxesSubplot object at 0x10f1a6588>,\n",
       "        <matplotlib.axes._subplots.AxesSubplot object at 0x10ef8cb70>,\n",
       "        <matplotlib.axes._subplots.AxesSubplot object at 0x10f0145f8>,\n",
       "        <matplotlib.axes._subplots.AxesSubplot object at 0x10f2b32e8>,\n",
       "        <matplotlib.axes._subplots.AxesSubplot object at 0x10fa66b38>,\n",
       "        <matplotlib.axes._subplots.AxesSubplot object at 0x10f03d208>,\n",
       "        <matplotlib.axes._subplots.AxesSubplot object at 0x10f2fc898>,\n",
       "        <matplotlib.axes._subplots.AxesSubplot object at 0x10efaef28>,\n",
       "        <matplotlib.axes._subplots.AxesSubplot object at 0x10f16b668>,\n",
       "        <matplotlib.axes._subplots.AxesSubplot object at 0x10f189c88>],\n",
       "       [<matplotlib.axes._subplots.AxesSubplot object at 0x10f325470>,\n",
       "        <matplotlib.axes._subplots.AxesSubplot object at 0x10f3819e8>,\n",
       "        <matplotlib.axes._subplots.AxesSubplot object at 0x10f3660b8>,\n",
       "        <matplotlib.axes._subplots.AxesSubplot object at 0x10f3c4748>,\n",
       "        <matplotlib.axes._subplots.AxesSubplot object at 0x10f40add8>,\n",
       "        <matplotlib.axes._subplots.AxesSubplot object at 0x1121a34a8>,\n",
       "        <matplotlib.axes._subplots.AxesSubplot object at 0x1121cab38>,\n",
       "        <matplotlib.axes._subplots.AxesSubplot object at 0x1121fb208>,\n",
       "        <matplotlib.axes._subplots.AxesSubplot object at 0x112223898>,\n",
       "        <matplotlib.axes._subplots.AxesSubplot object at 0x11224ef28>],\n",
       "       [<matplotlib.axes._subplots.AxesSubplot object at 0x11227c5f8>,\n",
       "        <matplotlib.axes._subplots.AxesSubplot object at 0x1122a6c88>,\n",
       "        <matplotlib.axes._subplots.AxesSubplot object at 0x1122d8358>,\n",
       "        <matplotlib.axes._subplots.AxesSubplot object at 0x1122fd9e8>,\n",
       "        <matplotlib.axes._subplots.AxesSubplot object at 0x1123330b8>,\n",
       "        <matplotlib.axes._subplots.AxesSubplot object at 0x11235a748>,\n",
       "        <matplotlib.axes._subplots.AxesSubplot object at 0x112380dd8>,\n",
       "        <matplotlib.axes._subplots.AxesSubplot object at 0x1123b04a8>,\n",
       "        <matplotlib.axes._subplots.AxesSubplot object at 0x1123dab38>,\n",
       "        <matplotlib.axes._subplots.AxesSubplot object at 0x11240b208>],\n",
       "       [<matplotlib.axes._subplots.AxesSubplot object at 0x112431898>,\n",
       "        <matplotlib.axes._subplots.AxesSubplot object at 0x11245af28>,\n",
       "        <matplotlib.axes._subplots.AxesSubplot object at 0x11248d5f8>,\n",
       "        <matplotlib.axes._subplots.AxesSubplot object at 0x1124b3c88>,\n",
       "        <matplotlib.axes._subplots.AxesSubplot object at 0x1124e6358>,\n",
       "        <matplotlib.axes._subplots.AxesSubplot object at 0x11250f9e8>,\n",
       "        <matplotlib.axes._subplots.AxesSubplot object at 0x1125410b8>,\n",
       "        <matplotlib.axes._subplots.AxesSubplot object at 0x112569748>,\n",
       "        <matplotlib.axes._subplots.AxesSubplot object at 0x112590dd8>,\n",
       "        <matplotlib.axes._subplots.AxesSubplot object at 0x1125c14a8>],\n",
       "       [<matplotlib.axes._subplots.AxesSubplot object at 0x1125eab38>,\n",
       "        <matplotlib.axes._subplots.AxesSubplot object at 0x11261b208>,\n",
       "        <matplotlib.axes._subplots.AxesSubplot object at 0x112643898>,\n",
       "        <matplotlib.axes._subplots.AxesSubplot object at 0x11266ff28>,\n",
       "        <matplotlib.axes._subplots.AxesSubplot object at 0x11269f5f8>,\n",
       "        <matplotlib.axes._subplots.AxesSubplot object at 0x1126c5c88>,\n",
       "        <matplotlib.axes._subplots.AxesSubplot object at 0x1126fa358>,\n",
       "        <matplotlib.axes._subplots.AxesSubplot object at 0x11271f9e8>,\n",
       "        <matplotlib.axes._subplots.AxesSubplot object at 0x1127540b8>,\n",
       "        <matplotlib.axes._subplots.AxesSubplot object at 0x11277c748>],\n",
       "       [<matplotlib.axes._subplots.AxesSubplot object at 0x1127a4dd8>,\n",
       "        <matplotlib.axes._subplots.AxesSubplot object at 0x1127d64a8>,\n",
       "        <matplotlib.axes._subplots.AxesSubplot object at 0x1127fcb38>,\n",
       "        <matplotlib.axes._subplots.AxesSubplot object at 0x11282e208>,\n",
       "        <matplotlib.axes._subplots.AxesSubplot object at 0x112856898>,\n",
       "        <matplotlib.axes._subplots.AxesSubplot object at 0x11287ef28>,\n",
       "        <matplotlib.axes._subplots.AxesSubplot object at 0x1128b05f8>,\n",
       "        <matplotlib.axes._subplots.AxesSubplot object at 0x1128d9c88>,\n",
       "        <matplotlib.axes._subplots.AxesSubplot object at 0x112909358>,\n",
       "        <matplotlib.axes._subplots.AxesSubplot object at 0x1129339e8>],\n",
       "       [<matplotlib.axes._subplots.AxesSubplot object at 0x1129660b8>,\n",
       "        <matplotlib.axes._subplots.AxesSubplot object at 0x11298c748>,\n",
       "        <matplotlib.axes._subplots.AxesSubplot object at 0x1129b4dd8>,\n",
       "        <matplotlib.axes._subplots.AxesSubplot object at 0x1129e74a8>,\n",
       "        <matplotlib.axes._subplots.AxesSubplot object at 0x112a0db38>,\n",
       "        <matplotlib.axes._subplots.AxesSubplot object at 0x112a40208>,\n",
       "        <matplotlib.axes._subplots.AxesSubplot object at 0x112a6a898>,\n",
       "        <matplotlib.axes._subplots.AxesSubplot object at 0x112a91f28>,\n",
       "        <matplotlib.axes._subplots.AxesSubplot object at 0x112ac25f8>,\n",
       "        <matplotlib.axes._subplots.AxesSubplot object at 0x112aebc88>]],\n",
       "      dtype=object)"
      ]
     },
     "execution_count": 32,
     "metadata": {},
     "output_type": "execute_result"
    },
    {
     "data": {
      "image/png": "[encoded data removed]",
      "text/plain": [
       "<Figure size 864x576 with 100 Axes>"
      ]
     },
     "metadata": {},
     "output_type": "display_data"
    }
   ],
   "source": [
    "from pandas.tools.plotting import scatter_matrix\n",
    "attributes = ['Status_num', 'Season','Age','Disease','Trauma','Surgery','Fever','Alcohol','Smoking','Sitting']\n",
    "scatter_matrix(fertile[attributes], figsize=(12, 8))"
   ]
  },
  {
   "cell_type": "code",
   "execution_count": 45,
   "metadata": {},
   "outputs": [
    {
     "name": "stdout",
     "output_type": "stream",
     "text": [
      "Train test shape is (75, 10) and Test set shape is (25, 10)\n"
     ]
    }
   ],
   "source": [
    "\n",
    "from sklearn.model_selection import train_test_split\n",
    "train_set, test_set = train_test_split(fertile, test_size = 0.25, random_state = 42)\n",
    "print (\"Train test shape is {0} and Test set shape is {1}\".format(train_set.shape,test_set.shape))"
   ]
  },
  {
   "cell_type": "code",
   "execution_count": 46,
   "metadata": {},
   "outputs": [],
   "source": [
    "X_train = train_set.drop(['Status_num'], axis=1)\n",
    "y_train = train_set['Status_num']\n",
    "X_test = test_set.drop(['Status_num'], axis=1)\n",
    "y_test = test_set['Status_num']"
   ]
  },
  {
   "cell_type": "code",
   "execution_count": null,
   "metadata": {},
   "outputs": [],
   "source": [
    "from imblearn.over_sampling import SMOTE\n",
    "sm = SMOTE(random_state = 12, ratio = 1.0)\n",
    "X_train_res, y_train_res = sm.fit_sample(X_train,y_train)\n",
    "print(X_train_res.shape, y_train_res.shape)"
   ]
  },
  {
   "cell_type": "code",
   "execution_count": 29,
   "metadata": {},
   "outputs": [
    {
     "name": "stderr",
     "output_type": "stream",
     "text": [
      "/usr/local/lib/python3.6/site-packages/sklearn/linear_model/stochastic_gradient.py:128: FutureWarning: max_iter and tol parameters have been added in <class 'sklearn.linear_model.stochastic_gradient.SGDClassifier'> in 0.19. If both are left unset, they default to max_iter=5 and tol=None. If tol is not None, max_iter defaults to max_iter=1000. From 0.21, default max_iter will be 1000, and default tol will be 1e-3.\n",
      "  \"and default tol will be 1e-3.\" % type(self), FutureWarning)\n"
     ]
    },
    {
     "data": {
      "text/plain": [
       "SGDClassifier(alpha=0.0001, average=False, class_weight=None, epsilon=0.1,\n",
       "       eta0=0.0, fit_intercept=True, l1_ratio=0.15,\n",
       "       learning_rate='optimal', loss='hinge', max_iter=None, n_iter=None,\n",
       "       n_jobs=1, penalty='l2', power_t=0.5, random_state=None,\n",
       "       shuffle=True, tol=None, verbose=0, warm_start=False)"
      ]
     },
     "execution_count": 29,
     "metadata": {},
     "output_type": "execute_result"
    }
   ],
   "source": [
    "from sklearn.linear_model import SGDClassifier\n",
    "sgd_clf = SGDClassifier()\n",
    "sgd_clf.fit(X_train_res,y_train_res)\n",
    "sgd_clf"
   ]
  },
  {
   "cell_type": "code",
   "execution_count": 30,
   "metadata": {},
   "outputs": [
    {
     "name": "stderr",
     "output_type": "stream",
     "text": [
      "/usr/local/lib/python3.6/site-packages/sklearn/linear_model/stochastic_gradient.py:128: FutureWarning: max_iter and tol parameters have been added in <class 'sklearn.linear_model.stochastic_gradient.SGDClassifier'> in 0.19. If both are left unset, they default to max_iter=5 and tol=None. If tol is not None, max_iter defaults to max_iter=1000. From 0.21, default max_iter will be 1000, and default tol will be 1e-3.\n",
      "  \"and default tol will be 1e-3.\" % type(self), FutureWarning)\n",
      "/usr/local/lib/python3.6/site-packages/sklearn/linear_model/stochastic_gradient.py:128: FutureWarning: max_iter and tol parameters have been added in <class 'sklearn.linear_model.stochastic_gradient.SGDClassifier'> in 0.19. If both are left unset, they default to max_iter=5 and tol=None. If tol is not None, max_iter defaults to max_iter=1000. From 0.21, default max_iter will be 1000, and default tol will be 1e-3.\n",
      "  \"and default tol will be 1e-3.\" % type(self), FutureWarning)\n",
      "/usr/local/lib/python3.6/site-packages/sklearn/linear_model/stochastic_gradient.py:128: FutureWarning: max_iter and tol parameters have been added in <class 'sklearn.linear_model.stochastic_gradient.SGDClassifier'> in 0.19. If both are left unset, they default to max_iter=5 and tol=None. If tol is not None, max_iter defaults to max_iter=1000. From 0.21, default max_iter will be 1000, and default tol will be 1e-3.\n",
      "  \"and default tol will be 1e-3.\" % type(self), FutureWarning)\n"
     ]
    },
    {
     "data": {
      "text/plain": [
       "array([[54, 12],\n",
       "       [26, 40]])"
      ]
     },
     "execution_count": 30,
     "metadata": {},
     "output_type": "execute_result"
    }
   ],
   "source": [
    "from sklearn.model_selection import cross_val_predict\n",
    "y_train_pred = cross_val_predict(sgd_clf, X_train_res, y_train_res, cv=3)\n",
    "\n",
    "from sklearn.metrics import confusion_matrix\n",
    "confusion_matrix(y_train_res, y_train_pred)"
   ]
  },
  {
   "cell_type": "code",
   "execution_count": 32,
   "metadata": {},
   "outputs": [
    {
     "data": {
      "text/plain": [
       "LogisticRegression(C=1.0, class_weight=None, dual=False, fit_intercept=True,\n",
       "          intercept_scaling=1, max_iter=100, multi_class='ovr', n_jobs=1,\n",
       "          penalty='l2', random_state=None, solver='liblinear', tol=0.0001,\n",
       "          verbose=0, warm_start=False)"
      ]
     },
     "execution_count": 32,
     "metadata": {},
     "output_type": "execute_result"
    }
   ],
   "source": [
    "from sklearn.linear_model import LogisticRegression\n",
    "lr = LogisticRegression()\n",
    "lr.fit(X_train_res, y_train_res)\n",
    "lr"
   ]
  },
  {
   "cell_type": "code",
   "execution_count": 36,
   "metadata": {},
   "outputs": [
    {
     "data": {
      "text/plain": [
       "array([[43, 23],\n",
       "       [18, 48]])"
      ]
     },
     "execution_count": 36,
     "metadata": {},
     "output_type": "execute_result"
    }
   ],
   "source": [
    "y_train_pred = cross_val_predict(lr, X_train_res, y_train_res, cv=3)\n",
    "confusion_matrix(y_train_res, y_train_pred)"
   ]
  },
  {
   "cell_type": "code",
   "execution_count": 34,
   "metadata": {},
   "outputs": [
    {
     "data": {
      "text/plain": [
       "RandomForestClassifier(bootstrap=True, class_weight=None, criterion='gini',\n",
       "            max_depth=None, max_features='auto', max_leaf_nodes=None,\n",
       "            min_impurity_decrease=0.0, min_impurity_split=None,\n",
       "            min_samples_leaf=1, min_samples_split=2,\n",
       "            min_weight_fraction_leaf=0.0, n_estimators=10, n_jobs=1,\n",
       "            oob_score=False, random_state=None, verbose=0,\n",
       "            warm_start=False)"
      ]
     },
     "execution_count": 34,
     "metadata": {},
     "output_type": "execute_result"
    }
   ],
   "source": [
    "from sklearn.ensemble import RandomForestClassifier\n",
    "rfc_clf = RandomForestClassifier()\n",
    "rfc_clf.fit(X_train_res, y_train_res)\n",
    "rfc_clf"
   ]
  },
  {
   "cell_type": "code",
   "execution_count": 38,
   "metadata": {},
   "outputs": [
    {
     "data": {
      "text/plain": [
       "array([[63,  3],\n",
       "       [ 7, 59]])"
      ]
     },
     "execution_count": 38,
     "metadata": {},
     "output_type": "execute_result"
    }
   ],
   "source": [
    "y_train_pred = cross_val_predict(rfc_clf, X_train_res, y_train_res, cv=3)\n",
    "confusion_matrix(y_train_res, y_train_pred)"
   ]
  },
  {
   "cell_type": "code",
   "execution_count": 39,
   "metadata": {},
   "outputs": [
    {
     "data": {
      "text/plain": [
       "DecisionTreeClassifier(class_weight=None, criterion='gini', max_depth=None,\n",
       "            max_features=None, max_leaf_nodes=None,\n",
       "            min_impurity_decrease=0.0, min_impurity_split=None,\n",
       "            min_samples_leaf=1, min_samples_split=2,\n",
       "            min_weight_fraction_leaf=0.0, presort=False, random_state=None,\n",
       "            splitter='best')"
      ]
     },
     "execution_count": 39,
     "metadata": {},
     "output_type": "execute_result"
    }
   ],
   "source": [
    "from sklearn.tree import DecisionTreeClassifier\n",
    "dt_clf = DecisionTreeClassifier()\n",
    "dt_clf.fit(X_train_res, y_train_res)\n",
    "dt_clf"
   ]
  },
  {
   "cell_type": "code",
   "execution_count": 40,
   "metadata": {},
   "outputs": [
    {
     "data": {
      "text/plain": [
       "array([[60,  6],\n",
       "       [ 5, 61]])"
      ]
     },
     "execution_count": 40,
     "metadata": {},
     "output_type": "execute_result"
    }
   ],
   "source": [
    "y_train_pred = cross_val_predict(dt_clf, X_train_res, y_train_res, cv=3)\n",
    "confusion_matrix(y_train_res, y_train_pred)"
   ]
  },
  {
   "cell_type": "code",
   "execution_count": 45,
   "metadata": {},
   "outputs": [
    {
     "data": {
      "text/plain": [
       "array([[15,  2],\n",
       "       [ 7,  1]])"
      ]
     },
     "execution_count": 45,
     "metadata": {},
     "output_type": "execute_result"
    }
   ],
   "source": [
    "y_test_pred = lr.predict(X_test)\n",
    "confusion_matrix(y_test_pred,y_test)"
   ]
  },
  {
   "cell_type": "code",
   "execution_count": 46,
   "metadata": {},
   "outputs": [
    {
     "data": {
      "text/plain": [
       "array([[21,  2],\n",
       "       [ 1,  1]])"
      ]
     },
     "execution_count": 46,
     "metadata": {},
     "output_type": "execute_result"
    }
   ],
   "source": [
    "y_test_pred = rfc_clf.predict(X_test)\n",
    "confusion_matrix(y_test_pred,y_test)"
   ]
  },
  {
   "cell_type": "code",
   "execution_count": 47,
   "metadata": {},
   "outputs": [
    {
     "data": {
      "text/plain": [
       "array([[22,  2],\n",
       "       [ 0,  1]])"
      ]
     },
     "execution_count": 47,
     "metadata": {},
     "output_type": "execute_result"
    }
   ],
   "source": [
    "y_test_pred = dt_clf.predict(X_test)\n",
    "confusion_matrix(y_test_pred,y_test)"
   ]
  },
  {
   "cell_type": "code",
   "execution_count": null,
   "metadata": {},
   "outputs": [],
   "source": []
  }
 ],
 "metadata": {
  "kernelspec": {
   "display_name": "Python 3",
   "language": "python",
   "name": "python3"
  },
  "language_info": {
   "codemirror_mode": {
    "name": "ipython",
    "version": 3
   },
   "file_extension": ".py",
   "mimetype": "text/x-python",
   "name": "python",
   "nbconvert_exporter": "python",
   "pygments_lexer": "ipython3",
   "version": "3.6.4"
  }
 },
 "nbformat": 4,
 "nbformat_minor": 2
}
