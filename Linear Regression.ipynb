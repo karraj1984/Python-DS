{
 "cells": [
  {
   "cell_type": "code",
   "execution_count": 11,
   "metadata": {},
   "outputs": [],
   "source": [
    "import numpy as np\n",
    "import os\n",
    "from matplotlib import pyplot as plt\n",
    "import pandas as pd\n",
    "from sklearn.linear_model import LinearRegression"
   ]
  },
  {
   "cell_type": "code",
   "execution_count": 54,
   "metadata": {},
   "outputs": [
    {
     "data": {
      "text/html": [
       "<div>\n",
       "<style scoped>\n",
       "    .dataframe tbody tr th:only-of-type {\n",
       "        vertical-align: middle;\n",
       "    }\n",
       "\n",
       "    .dataframe tbody tr th {\n",
       "        vertical-align: top;\n",
       "    }\n",
       "\n",
       "    .dataframe thead th {\n",
       "        text-align: right;\n",
       "    }\n",
       "</style>\n",
       "<table border=\"1\" class=\"dataframe\">\n",
       "  <thead>\n",
       "    <tr style=\"text-align: right;\">\n",
       "      <th></th>\n",
       "      <th>Country</th>\n",
       "      <th>GDP_per_capita</th>\n",
       "      <th>life_satisfaction</th>\n",
       "    </tr>\n",
       "  </thead>\n",
       "  <tbody>\n",
       "    <tr>\n",
       "      <th>0</th>\n",
       "      <td>Afghanistan</td>\n",
       "      <td>1739.583177</td>\n",
       "      <td>4.220169</td>\n",
       "    </tr>\n",
       "    <tr>\n",
       "      <th>1</th>\n",
       "      <td>Albania</td>\n",
       "      <td>11424.628320</td>\n",
       "      <td>4.511101</td>\n",
       "    </tr>\n",
       "    <tr>\n",
       "      <th>2</th>\n",
       "      <td>Algeria</td>\n",
       "      <td>13974.666220</td>\n",
       "      <td>5.388171</td>\n",
       "    </tr>\n",
       "    <tr>\n",
       "      <th>3</th>\n",
       "      <td>Angola</td>\n",
       "      <td>6024.726138</td>\n",
       "      <td>NaN</td>\n",
       "    </tr>\n",
       "    <tr>\n",
       "      <th>4</th>\n",
       "      <td>Antigua and Barbuda</td>\n",
       "      <td>20777.613080</td>\n",
       "      <td>NaN</td>\n",
       "    </tr>\n",
       "  </tbody>\n",
       "</table>\n",
       "</div>"
      ],
      "text/plain": [
       "               Country  GDP_per_capita  life_satisfaction\n",
       "0          Afghanistan     1739.583177           4.220169\n",
       "1              Albania    11424.628320           4.511101\n",
       "2              Algeria    13974.666220           5.388171\n",
       "3               Angola     6024.726138                NaN\n",
       "4  Antigua and Barbuda    20777.613080                NaN"
      ]
     },
     "execution_count": 54,
     "metadata": {},
     "output_type": "execute_result"
    }
   ],
   "source": [
    "gdp_df = pd.read_csv('/Users/karthickrajamani/Desktop/linreg.csv')\n",
    "gdp_df.head(5)"
   ]
  },
  {
   "cell_type": "code",
   "execution_count": 55,
   "metadata": {},
   "outputs": [
    {
     "name": "stdout",
     "output_type": "stream",
     "text": [
      "Coeficients are : [0.38718585 0.38718585]\n",
      "Intercept is : -1.7361291753419819\n"
     ]
    }
   ],
   "source": [
    "gdp_df = gdp_df.dropna()\n",
    "#X=gdp_df[\"GDP_per_capita\"]\n",
    "#Y=gdp_df[\"life_satisfaction\"]\n",
    "gdp_df[\"Avg_Salary\"] = gdp_df[\"GDP_per_capita\"]\n",
    "gdp_df[\"gdp_log\"] = np.log(gdp_df[\"GDP_per_capita\"])\n",
    "gdp_df[\"gdp_log1\"] = np.log(gdp_df[\"Avg_Salary\"])\n",
    "gdp_df = gdp_df[['gdp_log', 'gdp_log1', 'life_satisfaction']]\n",
    "#X = gdp_df[\"gdp_log\"].values.reshape(gdp_df[\"gdp_log\"].shape[0],1)\n",
    "#Z = gdp_df[\"gdp_log1\"].values.reshape(gdp_df[\"gdp_log1\"].shape[0],1)\n",
    "X = gdp_df.drop(['life_satisfaction'], axis=1)\n",
    "y = gdp_df['life_satisfaction']\n",
    "lin_reg_model.fit(X,y)\n",
    "print(\"Coeficients are : {0}\".format(lin_reg_model.coef_))\n",
    "print(\"Intercept is : {0}\".format(lin_reg_model.intercept_))"
   ]
  },
  {
   "cell_type": "code",
   "execution_count": null,
   "metadata": {},
   "outputs": [],
   "source": []
  },
  {
   "cell_type": "code",
   "execution_count": null,
   "metadata": {},
   "outputs": [],
   "source": []
  },
  {
   "cell_type": "code",
   "execution_count": null,
   "metadata": {},
   "outputs": [],
   "source": []
  }
 ],
 "metadata": {
  "kernelspec": {
   "display_name": "Python 3",
   "language": "python",
   "name": "python3"
  },
  "language_info": {
   "codemirror_mode": {
    "name": "ipython",
    "version": 3
   },
   "file_extension": ".py",
   "mimetype": "text/x-python",
   "name": "python",
   "nbconvert_exporter": "python",
   "pygments_lexer": "ipython3",
   "version": "3.6.4"
  }
 },
 "nbformat": 4,
 "nbformat_minor": 2
}
